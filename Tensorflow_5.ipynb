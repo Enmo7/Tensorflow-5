{
  "nbformat": 4,
  "nbformat_minor": 0,
  "metadata": {
    "colab": {
      "provenance": []
    },
    "kernelspec": {
      "name": "python3",
      "display_name": "Python 3"
    },
    "language_info": {
      "name": "python"
    }
  },
  "cells": [
    {
      "cell_type": "markdown",
      "source": [
        "<h1 align=\"center\"><font size=\"8\">CONVOLUTIONAL NEURAL NETWORK APPLICATION</font></h1>\n"
      ],
      "metadata": {
        "id": "0y9YtwBAJiao"
      }
    },
    {
      "cell_type": "code",
      "execution_count": 1,
      "metadata": {
        "id": "8SLHsGvMJXOQ"
      },
      "outputs": [],
      "source": [
        "import tensorflow as tf\n",
        "from IPython.display import Markdown, display\n",
        "\n",
        "def printmd(string):\n",
        "    display(Markdown('# <span style=\"color:red\">'+string+'</span>'))"
      ]
    },
    {
      "cell_type": "code",
      "source": [
        "mnist = tf.keras.datasets.mnist\n",
        "(x_train, y_train), (x_test, y_test) = mnist.load_data()"
      ],
      "metadata": {
        "id": "577j7RbZJulu"
      },
      "execution_count": 2,
      "outputs": []
    },
    {
      "cell_type": "code",
      "source": [
        "x_train"
      ],
      "metadata": {
        "colab": {
          "base_uri": "https://localhost:8080/"
        },
        "id": "rt_eKJOkJ-Fu",
        "outputId": "ef5bef31-fa14-4ba2-b722-ab81993e2e50"
      },
      "execution_count": 3,
      "outputs": [
        {
          "output_type": "execute_result",
          "data": {
            "text/plain": [
              "array([[[0, 0, 0, ..., 0, 0, 0],\n",
              "        [0, 0, 0, ..., 0, 0, 0],\n",
              "        [0, 0, 0, ..., 0, 0, 0],\n",
              "        ...,\n",
              "        [0, 0, 0, ..., 0, 0, 0],\n",
              "        [0, 0, 0, ..., 0, 0, 0],\n",
              "        [0, 0, 0, ..., 0, 0, 0]],\n",
              "\n",
              "       [[0, 0, 0, ..., 0, 0, 0],\n",
              "        [0, 0, 0, ..., 0, 0, 0],\n",
              "        [0, 0, 0, ..., 0, 0, 0],\n",
              "        ...,\n",
              "        [0, 0, 0, ..., 0, 0, 0],\n",
              "        [0, 0, 0, ..., 0, 0, 0],\n",
              "        [0, 0, 0, ..., 0, 0, 0]],\n",
              "\n",
              "       [[0, 0, 0, ..., 0, 0, 0],\n",
              "        [0, 0, 0, ..., 0, 0, 0],\n",
              "        [0, 0, 0, ..., 0, 0, 0],\n",
              "        ...,\n",
              "        [0, 0, 0, ..., 0, 0, 0],\n",
              "        [0, 0, 0, ..., 0, 0, 0],\n",
              "        [0, 0, 0, ..., 0, 0, 0]],\n",
              "\n",
              "       ...,\n",
              "\n",
              "       [[0, 0, 0, ..., 0, 0, 0],\n",
              "        [0, 0, 0, ..., 0, 0, 0],\n",
              "        [0, 0, 0, ..., 0, 0, 0],\n",
              "        ...,\n",
              "        [0, 0, 0, ..., 0, 0, 0],\n",
              "        [0, 0, 0, ..., 0, 0, 0],\n",
              "        [0, 0, 0, ..., 0, 0, 0]],\n",
              "\n",
              "       [[0, 0, 0, ..., 0, 0, 0],\n",
              "        [0, 0, 0, ..., 0, 0, 0],\n",
              "        [0, 0, 0, ..., 0, 0, 0],\n",
              "        ...,\n",
              "        [0, 0, 0, ..., 0, 0, 0],\n",
              "        [0, 0, 0, ..., 0, 0, 0],\n",
              "        [0, 0, 0, ..., 0, 0, 0]],\n",
              "\n",
              "       [[0, 0, 0, ..., 0, 0, 0],\n",
              "        [0, 0, 0, ..., 0, 0, 0],\n",
              "        [0, 0, 0, ..., 0, 0, 0],\n",
              "        ...,\n",
              "        [0, 0, 0, ..., 0, 0, 0],\n",
              "        [0, 0, 0, ..., 0, 0, 0],\n",
              "        [0, 0, 0, ..., 0, 0, 0]]], dtype=uint8)"
            ]
          },
          "metadata": {},
          "execution_count": 3
        }
      ]
    },
    {
      "cell_type": "code",
      "source": [
        "x_train.shape"
      ],
      "metadata": {
        "colab": {
          "base_uri": "https://localhost:8080/"
        },
        "id": "zEm5oR9IJ93z",
        "outputId": "312a9ff3-f7ae-4a9b-89d6-2e2800d1bd12"
      },
      "execution_count": 4,
      "outputs": [
        {
          "output_type": "execute_result",
          "data": {
            "text/plain": [
              "(60000, 28, 28)"
            ]
          },
          "metadata": {},
          "execution_count": 4
        }
      ]
    },
    {
      "cell_type": "code",
      "source": [
        "y_train"
      ],
      "metadata": {
        "colab": {
          "base_uri": "https://localhost:8080/"
        },
        "id": "dBfahd6_J9so",
        "outputId": "92eb8c7c-d1dc-47d4-b643-c9ce30101dfd"
      },
      "execution_count": 5,
      "outputs": [
        {
          "output_type": "execute_result",
          "data": {
            "text/plain": [
              "array([5, 0, 4, ..., 5, 6, 8], dtype=uint8)"
            ]
          },
          "metadata": {},
          "execution_count": 5
        }
      ]
    },
    {
      "cell_type": "code",
      "source": [
        "y_train.shape"
      ],
      "metadata": {
        "colab": {
          "base_uri": "https://localhost:8080/"
        },
        "id": "D5t2g2AKJ9ik",
        "outputId": "bd278230-d11c-45b2-b56a-f412f538307b"
      },
      "execution_count": 6,
      "outputs": [
        {
          "output_type": "execute_result",
          "data": {
            "text/plain": [
              "(60000,)"
            ]
          },
          "metadata": {},
          "execution_count": 6
        }
      ]
    },
    {
      "cell_type": "code",
      "source": [
        "x_test"
      ],
      "metadata": {
        "colab": {
          "base_uri": "https://localhost:8080/"
        },
        "id": "pOEVioiZJ9YT",
        "outputId": "0a64c879-336c-4568-e7cc-f8d220c4c66e"
      },
      "execution_count": 7,
      "outputs": [
        {
          "output_type": "execute_result",
          "data": {
            "text/plain": [
              "array([[[0, 0, 0, ..., 0, 0, 0],\n",
              "        [0, 0, 0, ..., 0, 0, 0],\n",
              "        [0, 0, 0, ..., 0, 0, 0],\n",
              "        ...,\n",
              "        [0, 0, 0, ..., 0, 0, 0],\n",
              "        [0, 0, 0, ..., 0, 0, 0],\n",
              "        [0, 0, 0, ..., 0, 0, 0]],\n",
              "\n",
              "       [[0, 0, 0, ..., 0, 0, 0],\n",
              "        [0, 0, 0, ..., 0, 0, 0],\n",
              "        [0, 0, 0, ..., 0, 0, 0],\n",
              "        ...,\n",
              "        [0, 0, 0, ..., 0, 0, 0],\n",
              "        [0, 0, 0, ..., 0, 0, 0],\n",
              "        [0, 0, 0, ..., 0, 0, 0]],\n",
              "\n",
              "       [[0, 0, 0, ..., 0, 0, 0],\n",
              "        [0, 0, 0, ..., 0, 0, 0],\n",
              "        [0, 0, 0, ..., 0, 0, 0],\n",
              "        ...,\n",
              "        [0, 0, 0, ..., 0, 0, 0],\n",
              "        [0, 0, 0, ..., 0, 0, 0],\n",
              "        [0, 0, 0, ..., 0, 0, 0]],\n",
              "\n",
              "       ...,\n",
              "\n",
              "       [[0, 0, 0, ..., 0, 0, 0],\n",
              "        [0, 0, 0, ..., 0, 0, 0],\n",
              "        [0, 0, 0, ..., 0, 0, 0],\n",
              "        ...,\n",
              "        [0, 0, 0, ..., 0, 0, 0],\n",
              "        [0, 0, 0, ..., 0, 0, 0],\n",
              "        [0, 0, 0, ..., 0, 0, 0]],\n",
              "\n",
              "       [[0, 0, 0, ..., 0, 0, 0],\n",
              "        [0, 0, 0, ..., 0, 0, 0],\n",
              "        [0, 0, 0, ..., 0, 0, 0],\n",
              "        ...,\n",
              "        [0, 0, 0, ..., 0, 0, 0],\n",
              "        [0, 0, 0, ..., 0, 0, 0],\n",
              "        [0, 0, 0, ..., 0, 0, 0]],\n",
              "\n",
              "       [[0, 0, 0, ..., 0, 0, 0],\n",
              "        [0, 0, 0, ..., 0, 0, 0],\n",
              "        [0, 0, 0, ..., 0, 0, 0],\n",
              "        ...,\n",
              "        [0, 0, 0, ..., 0, 0, 0],\n",
              "        [0, 0, 0, ..., 0, 0, 0],\n",
              "        [0, 0, 0, ..., 0, 0, 0]]], dtype=uint8)"
            ]
          },
          "metadata": {},
          "execution_count": 7
        }
      ]
    },
    {
      "cell_type": "code",
      "source": [
        "x_test.shape"
      ],
      "metadata": {
        "colab": {
          "base_uri": "https://localhost:8080/"
        },
        "id": "WVOawkdVJ9Lr",
        "outputId": "cdae4f12-717b-408d-adbd-f65413f673eb"
      },
      "execution_count": 8,
      "outputs": [
        {
          "output_type": "execute_result",
          "data": {
            "text/plain": [
              "(10000, 28, 28)"
            ]
          },
          "metadata": {},
          "execution_count": 8
        }
      ]
    },
    {
      "cell_type": "code",
      "source": [
        "y_test"
      ],
      "metadata": {
        "colab": {
          "base_uri": "https://localhost:8080/"
        },
        "id": "ZhjYO_fjJ8T-",
        "outputId": "ab16fd7f-b813-4b9f-95c2-67c0d9c702c9"
      },
      "execution_count": 9,
      "outputs": [
        {
          "output_type": "execute_result",
          "data": {
            "text/plain": [
              "array([7, 2, 1, ..., 4, 5, 6], dtype=uint8)"
            ]
          },
          "metadata": {},
          "execution_count": 9
        }
      ]
    },
    {
      "cell_type": "code",
      "source": [
        "y_test.shape"
      ],
      "metadata": {
        "colab": {
          "base_uri": "https://localhost:8080/"
        },
        "id": "un9Xx7onJ8HH",
        "outputId": "2e740afa-ac38-412c-dd52-2bf7839fabe1"
      },
      "execution_count": 10,
      "outputs": [
        {
          "output_type": "execute_result",
          "data": {
            "text/plain": [
              "(10000,)"
            ]
          },
          "metadata": {},
          "execution_count": 10
        }
      ]
    },
    {
      "cell_type": "code",
      "source": [
        "x_train, x_test = x_train / 255.0, x_test / 255.0 # Normalization"
      ],
      "metadata": {
        "id": "YeVoAosRJ0Y5"
      },
      "execution_count": 11,
      "outputs": []
    },
    {
      "cell_type": "code",
      "source": [
        "x_train"
      ],
      "metadata": {
        "colab": {
          "base_uri": "https://localhost:8080/"
        },
        "id": "5rcsWY84KT-c",
        "outputId": "3e2420e8-e197-4411-f84e-a6f53171aa1c"
      },
      "execution_count": 12,
      "outputs": [
        {
          "output_type": "execute_result",
          "data": {
            "text/plain": [
              "array([[[0., 0., 0., ..., 0., 0., 0.],\n",
              "        [0., 0., 0., ..., 0., 0., 0.],\n",
              "        [0., 0., 0., ..., 0., 0., 0.],\n",
              "        ...,\n",
              "        [0., 0., 0., ..., 0., 0., 0.],\n",
              "        [0., 0., 0., ..., 0., 0., 0.],\n",
              "        [0., 0., 0., ..., 0., 0., 0.]],\n",
              "\n",
              "       [[0., 0., 0., ..., 0., 0., 0.],\n",
              "        [0., 0., 0., ..., 0., 0., 0.],\n",
              "        [0., 0., 0., ..., 0., 0., 0.],\n",
              "        ...,\n",
              "        [0., 0., 0., ..., 0., 0., 0.],\n",
              "        [0., 0., 0., ..., 0., 0., 0.],\n",
              "        [0., 0., 0., ..., 0., 0., 0.]],\n",
              "\n",
              "       [[0., 0., 0., ..., 0., 0., 0.],\n",
              "        [0., 0., 0., ..., 0., 0., 0.],\n",
              "        [0., 0., 0., ..., 0., 0., 0.],\n",
              "        ...,\n",
              "        [0., 0., 0., ..., 0., 0., 0.],\n",
              "        [0., 0., 0., ..., 0., 0., 0.],\n",
              "        [0., 0., 0., ..., 0., 0., 0.]],\n",
              "\n",
              "       ...,\n",
              "\n",
              "       [[0., 0., 0., ..., 0., 0., 0.],\n",
              "        [0., 0., 0., ..., 0., 0., 0.],\n",
              "        [0., 0., 0., ..., 0., 0., 0.],\n",
              "        ...,\n",
              "        [0., 0., 0., ..., 0., 0., 0.],\n",
              "        [0., 0., 0., ..., 0., 0., 0.],\n",
              "        [0., 0., 0., ..., 0., 0., 0.]],\n",
              "\n",
              "       [[0., 0., 0., ..., 0., 0., 0.],\n",
              "        [0., 0., 0., ..., 0., 0., 0.],\n",
              "        [0., 0., 0., ..., 0., 0., 0.],\n",
              "        ...,\n",
              "        [0., 0., 0., ..., 0., 0., 0.],\n",
              "        [0., 0., 0., ..., 0., 0., 0.],\n",
              "        [0., 0., 0., ..., 0., 0., 0.]],\n",
              "\n",
              "       [[0., 0., 0., ..., 0., 0., 0.],\n",
              "        [0., 0., 0., ..., 0., 0., 0.],\n",
              "        [0., 0., 0., ..., 0., 0., 0.],\n",
              "        ...,\n",
              "        [0., 0., 0., ..., 0., 0., 0.],\n",
              "        [0., 0., 0., ..., 0., 0., 0.],\n",
              "        [0., 0., 0., ..., 0., 0., 0.]]])"
            ]
          },
          "metadata": {},
          "execution_count": 12
        }
      ]
    },
    {
      "cell_type": "code",
      "source": [
        "x_test"
      ],
      "metadata": {
        "colab": {
          "base_uri": "https://localhost:8080/"
        },
        "id": "1qsjIpk4KaVQ",
        "outputId": "93e136d4-71ae-4f22-a57c-60e688827ab9"
      },
      "execution_count": 13,
      "outputs": [
        {
          "output_type": "execute_result",
          "data": {
            "text/plain": [
              "array([[[0., 0., 0., ..., 0., 0., 0.],\n",
              "        [0., 0., 0., ..., 0., 0., 0.],\n",
              "        [0., 0., 0., ..., 0., 0., 0.],\n",
              "        ...,\n",
              "        [0., 0., 0., ..., 0., 0., 0.],\n",
              "        [0., 0., 0., ..., 0., 0., 0.],\n",
              "        [0., 0., 0., ..., 0., 0., 0.]],\n",
              "\n",
              "       [[0., 0., 0., ..., 0., 0., 0.],\n",
              "        [0., 0., 0., ..., 0., 0., 0.],\n",
              "        [0., 0., 0., ..., 0., 0., 0.],\n",
              "        ...,\n",
              "        [0., 0., 0., ..., 0., 0., 0.],\n",
              "        [0., 0., 0., ..., 0., 0., 0.],\n",
              "        [0., 0., 0., ..., 0., 0., 0.]],\n",
              "\n",
              "       [[0., 0., 0., ..., 0., 0., 0.],\n",
              "        [0., 0., 0., ..., 0., 0., 0.],\n",
              "        [0., 0., 0., ..., 0., 0., 0.],\n",
              "        ...,\n",
              "        [0., 0., 0., ..., 0., 0., 0.],\n",
              "        [0., 0., 0., ..., 0., 0., 0.],\n",
              "        [0., 0., 0., ..., 0., 0., 0.]],\n",
              "\n",
              "       ...,\n",
              "\n",
              "       [[0., 0., 0., ..., 0., 0., 0.],\n",
              "        [0., 0., 0., ..., 0., 0., 0.],\n",
              "        [0., 0., 0., ..., 0., 0., 0.],\n",
              "        ...,\n",
              "        [0., 0., 0., ..., 0., 0., 0.],\n",
              "        [0., 0., 0., ..., 0., 0., 0.],\n",
              "        [0., 0., 0., ..., 0., 0., 0.]],\n",
              "\n",
              "       [[0., 0., 0., ..., 0., 0., 0.],\n",
              "        [0., 0., 0., ..., 0., 0., 0.],\n",
              "        [0., 0., 0., ..., 0., 0., 0.],\n",
              "        ...,\n",
              "        [0., 0., 0., ..., 0., 0., 0.],\n",
              "        [0., 0., 0., ..., 0., 0., 0.],\n",
              "        [0., 0., 0., ..., 0., 0., 0.]],\n",
              "\n",
              "       [[0., 0., 0., ..., 0., 0., 0.],\n",
              "        [0., 0., 0., ..., 0., 0., 0.],\n",
              "        [0., 0., 0., ..., 0., 0., 0.],\n",
              "        ...,\n",
              "        [0., 0., 0., ..., 0., 0., 0.],\n",
              "        [0., 0., 0., ..., 0., 0., 0.],\n",
              "        [0., 0., 0., ..., 0., 0., 0.]]])"
            ]
          },
          "metadata": {},
          "execution_count": 13
        }
      ]
    },
    {
      "cell_type": "code",
      "source": [
        "print(y_train[0:5])"
      ],
      "metadata": {
        "colab": {
          "base_uri": "https://localhost:8080/"
        },
        "id": "KEJB8Kq_Kb30",
        "outputId": "ca8a9294-bf68-472d-a218-6f2e42726b9c"
      },
      "execution_count": 14,
      "outputs": [
        {
          "output_type": "stream",
          "name": "stdout",
          "text": [
            "[5 0 4 1 9]\n"
          ]
        }
      ]
    },
    {
      "cell_type": "code",
      "source": [
        "print(\"categorical labels\")\n",
        "print(y_train[0:5])"
      ],
      "metadata": {
        "colab": {
          "base_uri": "https://localhost:8080/"
        },
        "id": "30UsqbtyKflc",
        "outputId": "008b7c95-1716-4992-807a-3ea76f8e8059"
      },
      "execution_count": 15,
      "outputs": [
        {
          "output_type": "stream",
          "name": "stdout",
          "text": [
            "categorical labels\n",
            "[5 0 4 1 9]\n"
          ]
        }
      ]
    },
    {
      "cell_type": "code",
      "source": [
        "# make labels one hot encoded\n",
        "y_train = tf.one_hot(y_train, 10)\n",
        "y_test = tf.one_hot(y_test, 10)"
      ],
      "metadata": {
        "id": "N_yM6QYZKl49"
      },
      "execution_count": 16,
      "outputs": []
    },
    {
      "cell_type": "code",
      "source": [
        "y_train"
      ],
      "metadata": {
        "colab": {
          "base_uri": "https://localhost:8080/"
        },
        "id": "I1PonmQsKxbd",
        "outputId": "a618dd9e-1f10-485f-bd5a-0337740975be"
      },
      "execution_count": 17,
      "outputs": [
        {
          "output_type": "execute_result",
          "data": {
            "text/plain": [
              "<tf.Tensor: shape=(60000, 10), dtype=float32, numpy=\n",
              "array([[0., 0., 0., ..., 0., 0., 0.],\n",
              "       [1., 0., 0., ..., 0., 0., 0.],\n",
              "       [0., 0., 0., ..., 0., 0., 0.],\n",
              "       ...,\n",
              "       [0., 0., 0., ..., 0., 0., 0.],\n",
              "       [0., 0., 0., ..., 0., 0., 0.],\n",
              "       [0., 0., 0., ..., 0., 1., 0.]], dtype=float32)>"
            ]
          },
          "metadata": {},
          "execution_count": 17
        }
      ]
    },
    {
      "cell_type": "code",
      "source": [
        "y_test"
      ],
      "metadata": {
        "colab": {
          "base_uri": "https://localhost:8080/"
        },
        "id": "QmjK68NQKxQI",
        "outputId": "582951f9-ecc0-43e9-c0b8-8ffa80659dce"
      },
      "execution_count": 18,
      "outputs": [
        {
          "output_type": "execute_result",
          "data": {
            "text/plain": [
              "<tf.Tensor: shape=(10000, 10), dtype=float32, numpy=\n",
              "array([[0., 0., 0., ..., 1., 0., 0.],\n",
              "       [0., 0., 1., ..., 0., 0., 0.],\n",
              "       [0., 1., 0., ..., 0., 0., 0.],\n",
              "       ...,\n",
              "       [0., 0., 0., ..., 0., 0., 0.],\n",
              "       [0., 0., 0., ..., 0., 0., 0.],\n",
              "       [0., 0., 0., ..., 0., 0., 0.]], dtype=float32)>"
            ]
          },
          "metadata": {},
          "execution_count": 18
        }
      ]
    },
    {
      "cell_type": "code",
      "source": [
        "print(\"one hot encoded labels\")\n",
        "print(y_train[0:5])"
      ],
      "metadata": {
        "colab": {
          "base_uri": "https://localhost:8080/"
        },
        "id": "sEzIZ0HoKrIQ",
        "outputId": "7c0250c2-f957-4c5e-8990-de8af06acad1"
      },
      "execution_count": 19,
      "outputs": [
        {
          "output_type": "stream",
          "name": "stdout",
          "text": [
            "one hot encoded labels\n",
            "tf.Tensor(\n",
            "[[0. 0. 0. 0. 0. 1. 0. 0. 0. 0.]\n",
            " [1. 0. 0. 0. 0. 0. 0. 0. 0. 0.]\n",
            " [0. 0. 0. 0. 1. 0. 0. 0. 0. 0.]\n",
            " [0. 1. 0. 0. 0. 0. 0. 0. 0. 0.]\n",
            " [0. 0. 0. 0. 0. 0. 0. 0. 0. 1.]], shape=(5, 10), dtype=float32)\n"
          ]
        }
      ]
    },
    {
      "cell_type": "code",
      "source": [
        "print(\"number of training examples:\" , x_train.shape[0])\n",
        "print(\"number of test examples:\" , x_test.shape[0])"
      ],
      "metadata": {
        "colab": {
          "base_uri": "https://localhost:8080/"
        },
        "id": "fqGdpcb9K-pU",
        "outputId": "c9c08ab9-5c40-4d54-c4d9-7cff0599ba4b"
      },
      "execution_count": 20,
      "outputs": [
        {
          "output_type": "stream",
          "name": "stdout",
          "text": [
            "number of training examples: 60000\n",
            "number of test examples: 10000\n"
          ]
        }
      ]
    },
    {
      "cell_type": "code",
      "source": [
        "train_ds = tf.data.Dataset.from_tensor_slices((x_train, y_train)).batch(50)\n",
        "train_ds"
      ],
      "metadata": {
        "colab": {
          "base_uri": "https://localhost:8080/"
        },
        "id": "HI1ue9OcLDmx",
        "outputId": "384703cc-9824-4035-b6d5-9fa049d63012"
      },
      "execution_count": 21,
      "outputs": [
        {
          "output_type": "execute_result",
          "data": {
            "text/plain": [
              "<BatchDataset element_spec=(TensorSpec(shape=(None, 28, 28), dtype=tf.float64, name=None), TensorSpec(shape=(None, 10), dtype=tf.float32, name=None))>"
            ]
          },
          "metadata": {},
          "execution_count": 21
        }
      ]
    },
    {
      "cell_type": "code",
      "source": [
        "test_ds = tf.data.Dataset.from_tensor_slices((x_test, y_test)).batch(50)\n",
        "test_ds"
      ],
      "metadata": {
        "colab": {
          "base_uri": "https://localhost:8080/"
        },
        "id": "HszszafxLHkM",
        "outputId": "740ab68d-01f6-427c-debe-ff5b3c2b02c6"
      },
      "execution_count": 22,
      "outputs": [
        {
          "output_type": "execute_result",
          "data": {
            "text/plain": [
              "<BatchDataset element_spec=(TensorSpec(shape=(None, 28, 28), dtype=tf.float64, name=None), TensorSpec(shape=(None, 10), dtype=tf.float32, name=None))>"
            ]
          },
          "metadata": {},
          "execution_count": 22
        }
      ]
    },
    {
      "cell_type": "code",
      "source": [
        "# showing an example of the Flatten class and operation\n",
        "from tensorflow.keras.layers import Flatten\n",
        "flatten = Flatten(dtype='float32')\n",
        "flatten"
      ],
      "metadata": {
        "colab": {
          "base_uri": "https://localhost:8080/"
        },
        "id": "xo3LZyTSLLLC",
        "outputId": "dd0f546b-cb30-40b1-807e-7280a2a6d2c1"
      },
      "execution_count": 23,
      "outputs": [
        {
          "output_type": "execute_result",
          "data": {
            "text/plain": [
              "<keras.layers.reshaping.flatten.Flatten at 0x7ff274388f40>"
            ]
          },
          "metadata": {},
          "execution_count": 23
        }
      ]
    },
    {
      "cell_type": "code",
      "source": [
        "\"original data shape\"\n",
        "print(x_train.shape)"
      ],
      "metadata": {
        "colab": {
          "base_uri": "https://localhost:8080/"
        },
        "id": "kUCRJv7vLUby",
        "outputId": "57cebd38-4d08-43ad-cef7-1f88259aba33"
      },
      "execution_count": 24,
      "outputs": [
        {
          "output_type": "stream",
          "name": "stdout",
          "text": [
            "(60000, 28, 28)\n"
          ]
        }
      ]
    },
    {
      "cell_type": "code",
      "source": [
        "\"flattened shape\"\n",
        "print(flatten(x_train).shape)"
      ],
      "metadata": {
        "colab": {
          "base_uri": "https://localhost:8080/"
        },
        "id": "8n0ll5lMLW7G",
        "outputId": "eeb737fb-eab1-4077-c6df-87b4aa9226df"
      },
      "execution_count": 25,
      "outputs": [
        {
          "output_type": "stream",
          "name": "stdout",
          "text": [
            "(60000, 784)\n"
          ]
        }
      ]
    },
    {
      "cell_type": "code",
      "source": [
        "# Weight tensor\n",
        "W = tf.Variable(tf.zeros([784, 10], tf.float32))\n",
        "W"
      ],
      "metadata": {
        "colab": {
          "base_uri": "https://localhost:8080/"
        },
        "id": "XbkycLtWLbVG",
        "outputId": "ca7de60a-f6a9-4a93-c910-65fc3a680233"
      },
      "execution_count": 26,
      "outputs": [
        {
          "output_type": "execute_result",
          "data": {
            "text/plain": [
              "<tf.Variable 'Variable:0' shape=(784, 10) dtype=float32, numpy=\n",
              "array([[0., 0., 0., ..., 0., 0., 0.],\n",
              "       [0., 0., 0., ..., 0., 0., 0.],\n",
              "       [0., 0., 0., ..., 0., 0., 0.],\n",
              "       ...,\n",
              "       [0., 0., 0., ..., 0., 0., 0.],\n",
              "       [0., 0., 0., ..., 0., 0., 0.],\n",
              "       [0., 0., 0., ..., 0., 0., 0.]], dtype=float32)>"
            ]
          },
          "metadata": {},
          "execution_count": 26
        }
      ]
    },
    {
      "cell_type": "code",
      "source": [
        "# Bias tensor\n",
        "b = tf.Variable(tf.zeros([10], tf.float32))\n",
        "b"
      ],
      "metadata": {
        "colab": {
          "base_uri": "https://localhost:8080/"
        },
        "id": "pV7x6iZDLhT5",
        "outputId": "0000c883-bebb-4509-ca5a-e2047c4c2e24"
      },
      "execution_count": 27,
      "outputs": [
        {
          "output_type": "execute_result",
          "data": {
            "text/plain": [
              "<tf.Variable 'Variable:0' shape=(10,) dtype=float32, numpy=array([0., 0., 0., 0., 0., 0., 0., 0., 0., 0.], dtype=float32)>"
            ]
          },
          "metadata": {},
          "execution_count": 27
        }
      ]
    },
    {
      "cell_type": "code",
      "source": [
        "def forward(x):\n",
        "    return tf.matmul(x,W) + b"
      ],
      "metadata": {
        "id": "WTPZc24xLiT6"
      },
      "execution_count": 28,
      "outputs": []
    },
    {
      "cell_type": "code",
      "source": [
        "# a sample softmax calculation on an input vector\n",
        "vector = [10, 0.2, 8]\n",
        "vector"
      ],
      "metadata": {
        "colab": {
          "base_uri": "https://localhost:8080/"
        },
        "id": "kfG_6CyTLrnu",
        "outputId": "0c2a4af9-e000-4bcc-a3ec-31683fbd90f1"
      },
      "execution_count": 29,
      "outputs": [
        {
          "output_type": "execute_result",
          "data": {
            "text/plain": [
              "[10, 0.2, 8]"
            ]
          },
          "metadata": {},
          "execution_count": 29
        }
      ]
    },
    {
      "cell_type": "code",
      "source": [
        "softmax = tf.nn.softmax(vector)\n",
        "softmax"
      ],
      "metadata": {
        "colab": {
          "base_uri": "https://localhost:8080/"
        },
        "id": "7RR9MqWxLyfV",
        "outputId": "898b3e43-93f1-470e-a68f-8ca6193caa50"
      },
      "execution_count": 30,
      "outputs": [
        {
          "output_type": "execute_result",
          "data": {
            "text/plain": [
              "<tf.Tensor: shape=(3,), dtype=float32, numpy=array([8.8075405e-01, 4.8839214e-05, 1.1919710e-01], dtype=float32)>"
            ]
          },
          "metadata": {},
          "execution_count": 30
        }
      ]
    },
    {
      "cell_type": "code",
      "source": [
        "print(\"softmax calculation\")\n",
        "print(softmax.numpy())"
      ],
      "metadata": {
        "colab": {
          "base_uri": "https://localhost:8080/"
        },
        "id": "oxZuqS1GLyVt",
        "outputId": "ec7b636d-1223-4200-9925-51fa304fd761"
      },
      "execution_count": 31,
      "outputs": [
        {
          "output_type": "stream",
          "name": "stdout",
          "text": [
            "softmax calculation\n",
            "[8.8075405e-01 4.8839214e-05 1.1919710e-01]\n"
          ]
        }
      ]
    },
    {
      "cell_type": "code",
      "source": [
        "print(\"verifying normalization\")\n",
        "print(tf.reduce_sum(softmax))"
      ],
      "metadata": {
        "colab": {
          "base_uri": "https://localhost:8080/"
        },
        "id": "gAWSL3TJLyLb",
        "outputId": "90185741-5820-4043-ec5e-edaa1b43728d"
      },
      "execution_count": 32,
      "outputs": [
        {
          "output_type": "stream",
          "name": "stdout",
          "text": [
            "verifying normalization\n",
            "tf.Tensor(1.0, shape=(), dtype=float32)\n"
          ]
        }
      ]
    },
    {
      "cell_type": "code",
      "source": [
        "print(\"finding vector with largest value (label assignment)\")\n",
        "print(\"category\", tf.argmax(softmax).numpy())"
      ],
      "metadata": {
        "colab": {
          "base_uri": "https://localhost:8080/"
        },
        "id": "m2aZKT76LyCE",
        "outputId": "03ebaca3-b8f8-4e88-e41e-09a3e7342c0b"
      },
      "execution_count": 33,
      "outputs": [
        {
          "output_type": "stream",
          "name": "stdout",
          "text": [
            "finding vector with largest value (label assignment)\n",
            "category 0\n"
          ]
        }
      ]
    },
    {
      "cell_type": "code",
      "source": [
        "def activate(x):\n",
        "    return tf.nn.softmax(forward(x))"
      ],
      "metadata": {
        "id": "KIyfmOuiLx5F"
      },
      "execution_count": 34,
      "outputs": []
    },
    {
      "cell_type": "code",
      "source": [
        "def model(x):\n",
        "    x = flatten(x)\n",
        "    return activate(x)"
      ],
      "metadata": {
        "id": "Y6ra5o2CLxwP"
      },
      "execution_count": 35,
      "outputs": []
    },
    {
      "cell_type": "code",
      "source": [
        "def cross_entropy(y_label, y_pred):\n",
        "    return (-tf.reduce_sum(y_label * tf.math.log(y_pred + 1.e-10)))\n",
        "# addition of 1e-10 to prevent errors in zero calculations\n",
        "\n",
        "# current loss function for unoptimized model\n",
        "cross_entropy(y_train, model(x_train)).numpy()"
      ],
      "metadata": {
        "colab": {
          "base_uri": "https://localhost:8080/"
        },
        "id": "8FDb3KYSLxmu",
        "outputId": "9988fd6a-ba91-4d86-bdb4-ee517ad0e17a"
      },
      "execution_count": 36,
      "outputs": [
        {
          "output_type": "execute_result",
          "data": {
            "text/plain": [
              "138155.12"
            ]
          },
          "metadata": {},
          "execution_count": 36
        }
      ]
    },
    {
      "cell_type": "code",
      "source": [
        "optimizer = tf.keras.optimizers.SGD(learning_rate=0.25)"
      ],
      "metadata": {
        "id": "Hua3MEgwMRM1"
      },
      "execution_count": 37,
      "outputs": []
    },
    {
      "cell_type": "code",
      "source": [
        "def train_step(x, y ):\n",
        "    with tf.GradientTape() as tape:\n",
        "        #compute loss function\n",
        "        current_loss = cross_entropy( y, model(x))\n",
        "        # compute gradient of loss \n",
        "        #(This is automatic! Even with specialized funcctions!)\n",
        "        grads = tape.gradient( current_loss , [W,b] )\n",
        "        # Apply SGD step to our Variables W and b\n",
        "        optimizer.apply_gradients( zip( grads , [W,b] ) )     \n",
        "    return current_loss.numpy()"
      ],
      "metadata": {
        "id": "MIAcNKgtMT7P"
      },
      "execution_count": 38,
      "outputs": []
    },
    {
      "cell_type": "code",
      "source": [
        "# zeroing out weights in case you want to run this cell multiple times\n",
        "# Weight tensor\n",
        "W = tf.Variable(tf.zeros([784, 10],tf.float32))\n",
        "# Bias tensor\n",
        "b = tf.Variable(tf.zeros([10],tf.float32))\n",
        "\n",
        "loss_values=[]\n",
        "accuracies = []\n",
        "epochs = 10\n",
        "\n",
        "for i in range(epochs):\n",
        "    j=0\n",
        "    # each batch has 50 examples\n",
        "    for x_train_batch, y_train_batch in train_ds:\n",
        "        j+=1\n",
        "        current_loss = train_step(x_train_batch, y_train_batch)\n",
        "        if j%500==0: #reporting intermittent batch statistics\n",
        "            print(\"epoch \", str(i), \"batch\", str(j), \"loss:\", str(current_loss) ) \n",
        "    \n",
        "    # collecting statistics at each epoch...loss function and accuracy\n",
        "    #  loss function\n",
        "    current_loss = cross_entropy( y_train, model( x_train )).numpy()\n",
        "    loss_values.append(current_loss)\n",
        "    correct_prediction = tf.equal(tf.argmax(model(x_train), axis=1),\n",
        "                                  tf.argmax(y_train, axis=1))\n",
        "    #  accuracy\n",
        "    accuracy = tf.reduce_mean(tf.cast(correct_prediction, tf.float32)).numpy()\n",
        "    accuracies.append(accuracy)\n",
        "    print(\"end of epoch \", str(i), \"loss\", str(current_loss), \"accuracy\", str(accuracy) ) "
      ],
      "metadata": {
        "colab": {
          "base_uri": "https://localhost:8080/"
        },
        "id": "vD_61QDsMWbp",
        "outputId": "63c439a8-0e0c-4ca5-f891-af6cc106b6aa"
      },
      "execution_count": 39,
      "outputs": [
        {
          "output_type": "stream",
          "name": "stdout",
          "text": [
            "epoch  0 batch 500 loss: 308.78094\n",
            "epoch  0 batch 1000 loss: 243.85347\n",
            "end of epoch  0 loss 335063.8 accuracy 0.73728335\n",
            "epoch  1 batch 500 loss: 270.43488\n",
            "epoch  1 batch 1000 loss: 239.25098\n",
            "end of epoch  1 loss 331978.1 accuracy 0.74156666\n",
            "epoch  2 batch 500 loss: 290.95187\n",
            "epoch  2 batch 1000 loss: 253.18973\n",
            "end of epoch  2 loss 325348.25 accuracy 0.7507667\n",
            "epoch  3 batch 500 loss: 292.71637\n",
            "epoch  3 batch 1000 loss: 260.54138\n",
            "end of epoch  3 loss 321318.7 accuracy 0.75453335\n",
            "epoch  4 batch 500 loss: 289.2487\n",
            "epoch  4 batch 1000 loss: 242.80728\n",
            "end of epoch  4 loss 326882.06 accuracy 0.7500833\n",
            "epoch  5 batch 500 loss: 280.16818\n",
            "epoch  5 batch 1000 loss: 230.50214\n",
            "end of epoch  5 loss 321615.75 accuracy 0.75516665\n",
            "epoch  6 batch 500 loss: 277.45898\n",
            "epoch  6 batch 1000 loss: 230.25873\n",
            "end of epoch  6 loss 318383.2 accuracy 0.7596667\n",
            "epoch  7 batch 500 loss: 296.34238\n",
            "epoch  7 batch 1000 loss: 230.25853\n",
            "end of epoch  7 loss 317834.22 accuracy 0.7604667\n",
            "epoch  8 batch 500 loss: 294.98904\n",
            "epoch  8 batch 1000 loss: 241.22311\n",
            "end of epoch  8 loss 319660.4 accuracy 0.7583333\n",
            "epoch  9 batch 500 loss: 288.79962\n",
            "epoch  9 batch 1000 loss: 230.17444\n",
            "end of epoch  9 loss 319884.72 accuracy 0.7582833\n"
          ]
        }
      ]
    },
    {
      "cell_type": "code",
      "source": [
        "correct_prediction_train = tf.equal(tf.argmax(model(x_train), axis=1),tf.argmax(y_train,axis=1))\n",
        "accuracy_train = tf.reduce_mean(tf.cast(correct_prediction_train, tf.float32)).numpy()\n",
        "\n",
        "print(\"training accuracy\", accuracy_train)"
      ],
      "metadata": {
        "colab": {
          "base_uri": "https://localhost:8080/"
        },
        "id": "pg7s49KNMaYt",
        "outputId": "1d8c0579-2a2c-4892-f801-292326be4d22"
      },
      "execution_count": 40,
      "outputs": [
        {
          "output_type": "stream",
          "name": "stdout",
          "text": [
            "training accuracy 0.7582833\n"
          ]
        }
      ]
    },
    {
      "cell_type": "code",
      "source": [
        "correct_prediction_test = tf.equal(tf.argmax(model(x_test), axis=1),tf.argmax(y_test, axis=1))\n",
        "accuracy_test = tf.reduce_mean(tf.cast(correct_prediction_test, tf.float32)).numpy()\n",
        "\n",
        "print(\"test accuracy\", accuracy_test)"
      ],
      "metadata": {
        "colab": {
          "base_uri": "https://localhost:8080/"
        },
        "id": "3P7XbPIxMuv9",
        "outputId": "4e47693d-f154-478f-a846-ebe61346591d"
      },
      "execution_count": 41,
      "outputs": [
        {
          "output_type": "stream",
          "name": "stdout",
          "text": [
            "test accuracy 0.7536\n"
          ]
        }
      ]
    },
    {
      "cell_type": "code",
      "source": [
        "import matplotlib.pyplot as plt\n",
        "%matplotlib inline\n",
        "plt.rcParams['figure.figsize'] = (10, 6)\n",
        "#print(loss_values)\n",
        "plt.plot(loss_values,'-ro')\n",
        "plt.title(\"loss per epoch\")\n",
        "plt.xlabel(\"epoch\")\n",
        "plt.ylabel(\"loss\")"
      ],
      "metadata": {
        "colab": {
          "base_uri": "https://localhost:8080/",
          "height": 421
        },
        "id": "x59G24dxM0_s",
        "outputId": "a28fee5c-4711-418a-dd35-3d26b55e0768"
      },
      "execution_count": 42,
      "outputs": [
        {
          "output_type": "execute_result",
          "data": {
            "text/plain": [
              "Text(0, 0.5, 'loss')"
            ]
          },
          "metadata": {},
          "execution_count": 42
        },
        {
          "output_type": "display_data",
          "data": {
            "text/plain": [
              "<Figure size 720x432 with 1 Axes>"
            ],
            "image/png": "[encoded data removed]"
          },
          "metadata": {
            "needs_background": "light"
          }
        }
      ]
    },
    {
      "cell_type": "code",
      "source": [
        "plt.plot(accuracies,'-ro')\n",
        "plt.title(\"accuracy per epoch\")\n",
        "plt.xlabel(\"epoch\")\n",
        "plt.ylabel(\"accuracy\")"
      ],
      "metadata": {
        "colab": {
          "base_uri": "https://localhost:8080/",
          "height": 421
        },
        "id": "iu6CXnD6M5n0",
        "outputId": "0a42414a-89b8-48fd-f4e1-b906d12abb4d"
      },
      "execution_count": 43,
      "outputs": [
        {
          "output_type": "execute_result",
          "data": {
            "text/plain": [
              "Text(0, 0.5, 'accuracy')"
            ]
          },
          "metadata": {},
          "execution_count": 43
        },
        {
          "output_type": "display_data",
          "data": {
            "text/plain": [
              "<Figure size 720x432 with 1 Axes>"
            ],
            "image/png": "[encoded data removed]"
          },
          "metadata": {
            "needs_background": "light"
          }
        }
      ]
    },
    {
      "cell_type": "code",
      "source": [
        "width = 28 # width of the image in pixels \n",
        "height = 28 # height of the image in pixels\n",
        "flat = width * height # number of pixels in one image \n",
        "class_output = 10 # number of possible classifications for the problem"
      ],
      "metadata": {
        "id": "ZhSomf18M8wN"
      },
      "execution_count": 44,
      "outputs": []
    },
    {
      "cell_type": "code",
      "source": [
        "x_image_train = tf.reshape(x_train, [-1,28,28,1])  \n",
        "x_image_train = tf.cast(x_image_train, 'float32') \n",
        "\n",
        "x_image_test = tf.reshape(x_test, [-1,28,28,1]) \n",
        "x_image_test = tf.cast(x_image_test, 'float32') \n",
        "\n",
        "#creating new dataset with reshaped inputs\n",
        "train_ds2 = tf.data.Dataset.from_tensor_slices((x_image_train, y_train)).batch(50)\n",
        "test_ds2 = tf.data.Dataset.from_tensor_slices((x_image_test, y_test)).batch(50)"
      ],
      "metadata": {
        "id": "oMHtrC0aNBY7"
      },
      "execution_count": 45,
      "outputs": []
    },
    {
      "cell_type": "code",
      "source": [
        "x_image_train = tf.slice(x_image_train,[0,0,0,0],[10000, 28, 28, 1])\n",
        "y_train = tf.slice(y_train,[0,0],[10000, 10])"
      ],
      "metadata": {
        "id": "7rYadgA-NFkz"
      },
      "execution_count": 46,
      "outputs": []
    },
    {
      "cell_type": "code",
      "source": [
        "W_conv1 = tf.Variable(tf.random.truncated_normal([5, 5, 1, 32], stddev=0.1, seed=0))\n",
        "b_conv1 = tf.Variable(tf.constant(0.1, shape=[32])) # need 32 biases for 32 outputs"
      ],
      "metadata": {
        "id": "dL-MnZrzNIbn"
      },
      "execution_count": 47,
      "outputs": []
    },
    {
      "cell_type": "code",
      "source": [
        "def convolve1(x):\n",
        "    return(tf.nn.conv2d(x, W_conv1, strides=[1, 1, 1, 1], padding='SAME') + b_conv1)"
      ],
      "metadata": {
        "id": "P9Z0SS6nNKxJ"
      },
      "execution_count": 48,
      "outputs": []
    },
    {
      "cell_type": "code",
      "source": [
        "def h_conv1(x): return(tf.nn.relu(convolve1(x)))"
      ],
      "metadata": {
        "id": "80WCghtANQoP"
      },
      "execution_count": 49,
      "outputs": []
    },
    {
      "cell_type": "code",
      "source": [
        "def conv1(x):\n",
        "    return tf.nn.max_pool(h_conv1(x), ksize=[1, 2, 2, 1], \n",
        "                          strides=[1, 2, 2, 1], padding='SAME')"
      ],
      "metadata": {
        "id": "jOsin8lmNTmF"
      },
      "execution_count": 50,
      "outputs": []
    },
    {
      "cell_type": "code",
      "source": [
        "W_conv2 = tf.Variable(tf.random.truncated_normal([5, 5, 32, 64], stddev=0.1, seed=1))\n",
        "b_conv2 = tf.Variable(tf.constant(0.1, shape=[64])) #need 64 biases for 64 outputs"
      ],
      "metadata": {
        "id": "mnXhaNEPNWNY"
      },
      "execution_count": 51,
      "outputs": []
    },
    {
      "cell_type": "code",
      "source": [
        "def convolve2(x): \n",
        "    return( \n",
        "    tf.nn.conv2d(conv1(x), W_conv2, strides=[1, 1, 1, 1], padding='SAME') + b_conv2)"
      ],
      "metadata": {
        "id": "NdJvUq6XNZa2"
      },
      "execution_count": 52,
      "outputs": []
    },
    {
      "cell_type": "code",
      "source": [
        "def h_conv2(x):  return tf.nn.relu(convolve2(x))"
      ],
      "metadata": {
        "id": "0XF7Ta5kNec3"
      },
      "execution_count": 53,
      "outputs": []
    },
    {
      "cell_type": "code",
      "source": [
        "def conv2(x):  \n",
        "    return(\n",
        "    tf.nn.max_pool(h_conv2(x), ksize=[1, 2, 2, 1], strides=[1, 2, 2, 1], padding='SAME'))"
      ],
      "metadata": {
        "id": "xOOUC6rENhj_"
      },
      "execution_count": 54,
      "outputs": []
    },
    {
      "cell_type": "code",
      "source": [
        "def layer2_matrix(x): return tf.reshape(conv2(x), [-1, 7 * 7 * 64])"
      ],
      "metadata": {
        "id": "mlELevkONj4y"
      },
      "execution_count": 55,
      "outputs": []
    },
    {
      "cell_type": "code",
      "source": [
        "W_fc1 = tf.Variable(tf.random.truncated_normal([7 * 7 * 64, 1024], stddev=0.1, seed = 2))\n",
        "b_fc1 = tf.Variable(tf.constant(0.1, shape=[1024])) # need 1024 biases for 1024 outputs"
      ],
      "metadata": {
        "id": "Dd931ukGNtqm"
      },
      "execution_count": 56,
      "outputs": []
    },
    {
      "cell_type": "code",
      "source": [
        "def fcl(x): return tf.matmul(layer2_matrix(x), W_fc1) + b_fc1"
      ],
      "metadata": {
        "id": "JoowSXtcNv15"
      },
      "execution_count": 57,
      "outputs": []
    },
    {
      "cell_type": "code",
      "source": [
        "def h_fc1(x): return tf.nn.relu(fcl(x))"
      ],
      "metadata": {
        "id": "yN4Tztr_NxtD"
      },
      "execution_count": 58,
      "outputs": []
    },
    {
      "cell_type": "code",
      "source": [
        "keep_prob=0.5\n",
        "def layer_drop(x): return tf.nn.dropout(h_fc1(x), keep_prob)"
      ],
      "metadata": {
        "id": "B9ObbteqNzKm"
      },
      "execution_count": 59,
      "outputs": []
    },
    {
      "cell_type": "code",
      "source": [
        "W_fc2 = tf.Variable(tf.random.truncated_normal([1024, 10], stddev=0.1, seed = 2)) #1024 neurons\n",
        "b_fc2 = tf.Variable(tf.constant(0.1, shape=[10])) # 10 possibilities for digits [0,1,2,3,4,5,6,7,8,9]"
      ],
      "metadata": {
        "id": "yrSRWkrLN2Uy"
      },
      "execution_count": 60,
      "outputs": []
    },
    {
      "cell_type": "code",
      "source": [
        "def fc(x): return tf.matmul(layer_drop(x), W_fc2) + b_fc2"
      ],
      "metadata": {
        "id": "rKAz44z1N5Qy"
      },
      "execution_count": 61,
      "outputs": []
    },
    {
      "cell_type": "code",
      "source": [
        "def y_CNN(x): return tf.nn.softmax(fc(x))"
      ],
      "metadata": {
        "id": "2MkZ3VFYN61n"
      },
      "execution_count": 62,
      "outputs": []
    },
    {
      "cell_type": "markdown",
      "source": [
        "# Define functions and train the model"
      ],
      "metadata": {
        "id": "IGcDjUcYOB4x"
      }
    },
    {
      "cell_type": "code",
      "source": [
        "import numpy as np\n",
        "layer4_test =[[0.9, 0.1, 0.1],[0.9, 0.1, 0.1]]\n",
        "y_test=[[1.0, 0.0, 0.0],[1.0, 0.0, 0.0]]\n",
        "np.mean( -np.sum(y_test * np.log(layer4_test),1))"
      ],
      "metadata": {
        "colab": {
          "base_uri": "https://localhost:8080/"
        },
        "id": "fPsZhXeuN8eK",
        "outputId": "0a7ea0bb-aac3-4948-bb44-d652434c9a43"
      },
      "execution_count": 63,
      "outputs": [
        {
          "output_type": "execute_result",
          "data": {
            "text/plain": [
              "0.10536051565782628"
            ]
          },
          "metadata": {},
          "execution_count": 63
        }
      ]
    },
    {
      "cell_type": "code",
      "source": [
        "def cross_entropy(y_label, y_pred):\n",
        "    return (-tf.reduce_sum(y_label * tf.math.log(y_pred + 1.e-10)))"
      ],
      "metadata": {
        "id": "o0TepyowOMR3"
      },
      "execution_count": 64,
      "outputs": []
    },
    {
      "cell_type": "code",
      "source": [
        "optimizer = tf.keras.optimizers.Adam(1e-4)"
      ],
      "metadata": {
        "id": "x1YiYkqwOO16"
      },
      "execution_count": 65,
      "outputs": []
    },
    {
      "cell_type": "code",
      "source": [
        "variables = [W_conv1, b_conv1, W_conv2, b_conv2, \n",
        "             W_fc1, b_fc1, W_fc2, b_fc2, ]\n",
        "\n",
        "def train_step(x, y):\n",
        "    with tf.GradientTape() as tape:\n",
        "        current_loss = cross_entropy( y, y_CNN( x ))\n",
        "        grads = tape.gradient( current_loss , variables )\n",
        "        optimizer.apply_gradients( zip( grads , variables ) )\n",
        "        return current_loss.numpy()"
      ],
      "metadata": {
        "id": "InMf11WdOQgT"
      },
      "execution_count": 66,
      "outputs": []
    },
    {
      "cell_type": "code",
      "source": [
        "correct_prediction = tf.equal(tf.argmax(y_CNN(x_image_train), axis=1), tf.argmax(y_train, axis=1))"
      ],
      "metadata": {
        "id": "zusE08Y7OTe5"
      },
      "execution_count": 67,
      "outputs": []
    },
    {
      "cell_type": "code",
      "source": [
        "accuracy = tf.reduce_mean(tf.cast(correct_prediction, 'float32'))"
      ],
      "metadata": {
        "id": "tAiOKgLvOY5-"
      },
      "execution_count": 68,
      "outputs": []
    },
    {
      "cell_type": "code",
      "source": [
        "loss_values=[]\n",
        "accuracies = []\n",
        "epochs = 1\n",
        "\n",
        "for i in range(epochs):\n",
        "    j=0\n",
        "    # each batch has 50 examples\n",
        "    for x_train_batch, y_train_batch in train_ds2:\n",
        "        j+=1\n",
        "        current_loss = train_step(x_train_batch, y_train_batch)\n",
        "        if j%50==0: #reporting intermittent batch statistics\n",
        "            correct_prediction = tf.equal(tf.argmax(y_CNN(x_train_batch), axis=1),\n",
        "                                  tf.argmax(y_train_batch, axis=1))\n",
        "            #  accuracy\n",
        "            accuracy = tf.reduce_mean(tf.cast(correct_prediction, tf.float32)).numpy()\n",
        "            print(\"epoch \", str(i), \"batch\", str(j), \"loss:\", str(current_loss),\n",
        "                     \"accuracy\", str(accuracy)) \n",
        "            \n",
        "    current_loss = cross_entropy( y_train, y_CNN( x_image_train )).numpy()\n",
        "    loss_values.append(current_loss)\n",
        "    correct_prediction = tf.equal(tf.argmax(y_CNN(x_image_train), axis=1),\n",
        "                                  tf.argmax(y_train, axis=1))\n",
        "    #  accuracy\n",
        "    accuracy = tf.reduce_mean(tf.cast(correct_prediction, tf.float32)).numpy()\n",
        "    accuracies.append(accuracy)\n",
        "    print(\"end of epoch \", str(i), \"loss\", str(current_loss), \"accuracy\", str(accuracy) )  "
      ],
      "metadata": {
        "colab": {
          "base_uri": "https://localhost:8080/"
        },
        "id": "I_sND6wuObAv",
        "outputId": "246053a7-4339-4c78-a8f1-d181325271ea"
      },
      "execution_count": 69,
      "outputs": [
        {
          "output_type": "stream",
          "name": "stdout",
          "text": [
            "epoch  0 batch 50 loss: 117.73481 accuracy 0.24\n",
            "epoch  0 batch 100 loss: 61.581306 accuracy 0.68\n",
            "epoch  0 batch 150 loss: 45.761803 accuracy 0.78\n",
            "epoch  0 batch 200 loss: 30.749876 accuracy 0.88\n",
            "epoch  0 batch 250 loss: 31.599756 accuracy 0.82\n",
            "epoch  0 batch 300 loss: 25.118418 accuracy 0.72\n",
            "epoch  0 batch 350 loss: 26.137978 accuracy 0.84\n",
            "epoch  0 batch 400 loss: 19.194366 accuracy 0.86\n",
            "epoch  0 batch 450 loss: 27.32048 accuracy 0.82\n",
            "epoch  0 batch 500 loss: 12.322475 accuracy 0.98\n",
            "epoch  0 batch 550 loss: 19.87674 accuracy 0.94\n",
            "epoch  0 batch 600 loss: 18.476892 accuracy 0.88\n",
            "epoch  0 batch 650 loss: 19.777128 accuracy 0.84\n",
            "epoch  0 batch 700 loss: 9.242286 accuracy 0.94\n",
            "epoch  0 batch 750 loss: 25.834148 accuracy 0.86\n",
            "epoch  0 batch 800 loss: 15.64409 accuracy 0.86\n",
            "epoch  0 batch 850 loss: 18.037994 accuracy 0.92\n",
            "epoch  0 batch 900 loss: 14.02395 accuracy 0.9\n",
            "epoch  0 batch 950 loss: 11.411683 accuracy 0.88\n",
            "epoch  0 batch 1000 loss: 11.70274 accuracy 0.88\n",
            "epoch  0 batch 1050 loss: 6.8918395 accuracy 0.94\n",
            "epoch  0 batch 1100 loss: 11.230936 accuracy 0.9\n",
            "epoch  0 batch 1150 loss: 12.887653 accuracy 0.98\n",
            "epoch  0 batch 1200 loss: 3.9995763 accuracy 1.0\n",
            "end of epoch  0 loss 1973.8867 accuracy 0.9375\n"
          ]
        }
      ]
    },
    {
      "cell_type": "code",
      "source": [
        "j=0\n",
        "acccuracies=[]\n",
        "# evaluate accuracy by batch and average...reporting every 100th batch\n",
        "for x_train_batch, y_train_batch in train_ds2:\n",
        "        j+=1\n",
        "        correct_prediction = tf.equal(tf.argmax(y_CNN(x_train_batch), axis=1),\n",
        "                                  tf.argmax(y_train_batch, axis=1))\n",
        "        accuracy = tf.reduce_mean(tf.cast(correct_prediction, tf.float32)).numpy()\n",
        "        #accuracies.append(accuracy)\n",
        "        if j%100==0:\n",
        "            print(\"batch\", str(j), \"accuracy\", str(accuracy) ) \n",
        "import numpy as np\n",
        "print(\"accuracy of entire set\", str(np.mean(accuracies)))            "
      ],
      "metadata": {
        "colab": {
          "base_uri": "https://localhost:8080/"
        },
        "id": "3CX50e1gOeLj",
        "outputId": "4a316e1c-4564-435e-fd5e-5604e2749291"
      },
      "execution_count": 70,
      "outputs": [
        {
          "output_type": "stream",
          "name": "stdout",
          "text": [
            "batch 100 accuracy 0.92\n",
            "batch 200 accuracy 1.0\n",
            "batch 300 accuracy 0.96\n",
            "batch 400 accuracy 0.96\n",
            "batch 500 accuracy 0.92\n",
            "batch 600 accuracy 0.92\n",
            "batch 700 accuracy 0.94\n",
            "batch 800 accuracy 0.98\n",
            "batch 900 accuracy 0.92\n",
            "batch 1000 accuracy 0.88\n",
            "batch 1100 accuracy 0.9\n",
            "batch 1200 accuracy 0.98\n",
            "accuracy of entire set 0.9375\n"
          ]
        }
      ]
    },
    {
      "cell_type": "code",
      "source": [
        "kernels = tf.reshape(tf.transpose(W_conv1, perm=[2, 3, 0,1]),[32, -1])"
      ],
      "metadata": {
        "id": "HxXKYQuNOu9H"
      },
      "execution_count": null,
      "outputs": []
    },
    {
      "cell_type": "code",
      "source": [
        "!wget --output-document utils1.py https://cf-courses-data.s3.us.cloud-object-storage.appdomain.cloud/IBMDeveloperSkillsNetwork-DL0120EN-SkillsNetwork/labs/Week2/data/utils.py\n",
        "import utils1\n",
        "import imp\n",
        "imp.reload(utils1)\n",
        "from utils1 import tile_raster_images\n",
        "import matplotlib.pyplot as plt\n",
        "from PIL import Image\n",
        "%matplotlib inline\n",
        "image = Image.fromarray(tile_raster_images(kernels.numpy(), img_shape=(5, 5) ,tile_shape=(4, 8), tile_spacing=(1, 1)))\n",
        "### Plot image\n",
        "plt.rcParams['figure.figsize'] = (18.0, 18.0)\n",
        "imgplot = plt.imshow(image)\n",
        "imgplot.set_cmap('gray')  "
      ],
      "metadata": {
        "colab": {
          "base_uri": "https://localhost:8080/",
          "height": 730
        },
        "id": "ocWZjrGVOz_r",
        "outputId": "2edae4d5-0adf-4edf-b996-d0f33e680060"
      },
      "execution_count": 72,
      "outputs": [
        {
          "output_type": "stream",
          "name": "stdout",
          "text": [
            "--2023-03-10 19:52:55--  https://cf-courses-data.s3.us.cloud-object-storage.appdomain.cloud/IBMDeveloperSkillsNetwork-DL0120EN-SkillsNetwork/labs/Week2/data/utils.py\n",
            "Resolving cf-courses-data.s3.us.cloud-object-storage.appdomain.cloud (cf-courses-data.s3.us.cloud-object-storage.appdomain.cloud)... 169.63.118.104\n",
            "Connecting to cf-courses-data.s3.us.cloud-object-storage.appdomain.cloud (cf-courses-data.s3.us.cloud-object-storage.appdomain.cloud)|169.63.118.104|:443... connected.\n",
            "HTTP request sent, awaiting response... 200 OK\n",
            "Length: 5097 (5.0K) [text/x-python]\n",
            "Saving to: ‘utils1.py’\n",
            "\n",
            "\rutils1.py             0%[                    ]       0  --.-KB/s               \rutils1.py           100%[===================>]   4.98K  --.-KB/s    in 0s      \n",
            "\n",
            "2023-03-10 19:52:56 (627 MB/s) - ‘utils1.py’ saved [5097/5097]\n",
            "\n"
          ]
        },
        {
          "output_type": "display_data",
          "data": {
            "text/plain": [
              "<Figure size 1296x1296 with 1 Axes>"
            ],
            "image/png": "[encoded data removed]"
          },
          "metadata": {
            "needs_background": "light"
          }
        }
      ]
    },
    {
      "cell_type": "code",
      "source": [
        "import numpy as np\n",
        "plt.rcParams['figure.figsize'] = (5.0, 5.0)\n",
        "sampleimage = [x_image_train[0]]\n",
        "plt.imshow(np.reshape(sampleimage,[28,28]), cmap=\"gray\")"
      ],
      "metadata": {
        "colab": {
          "base_uri": "https://localhost:8080/",
          "height": 337
        },
        "id": "BWwvAqbjO3FO",
        "outputId": "c5dd8eb1-18b7-43fc-9fe0-b9f615222549"
      },
      "execution_count": 73,
      "outputs": [
        {
          "output_type": "execute_result",
          "data": {
            "text/plain": [
              "<matplotlib.image.AxesImage at 0x7ff228c43e50>"
            ]
          },
          "metadata": {},
          "execution_count": 73
        },
        {
          "output_type": "display_data",
          "data": {
            "text/plain": [
              "<Figure size 360x360 with 1 Axes>"
            ],
            "image/png": "[encoded data removed]"
          },
          "metadata": {
            "needs_background": "light"
          }
        }
      ]
    },
    {
      "cell_type": "code",
      "source": [
        "#ActivatedUnits = sess.run(convolve1,feed_dict={x:np.reshape(sampleimage,[1,784],order='F'),keep_prob:1.0})\n",
        "keep_prob=1.0\n",
        "ActivatedUnits = convolve1(sampleimage)\n",
        "                           \n",
        "filters = ActivatedUnits.shape[3]\n",
        "plt.figure(1, figsize=(20,20))\n",
        "n_columns = 6\n",
        "n_rows = np.math.ceil(filters / n_columns) + 1\n",
        "for i in range(filters):\n",
        "    plt.subplot(n_rows, n_columns, i+1)\n",
        "    plt.title('Filter ' + str(i))\n",
        "    plt.imshow(ActivatedUnits[0,:,:,i], interpolation=\"nearest\", cmap=\"gray\")"
      ],
      "metadata": {
        "id": "Yjn5HqljO5aS"
      },
      "execution_count": null,
      "outputs": []
    },
    {
      "cell_type": "code",
      "source": [
        "#ActivatedUnits = sess.run(convolve2,feed_dict={x:np.reshape(sampleimage,[1,784],order='F'),keep_prob:1.0})\n",
        "ActivatedUnits = convolve2(sampleimage)\n",
        "filters = ActivatedUnits.shape[3]\n",
        "plt.figure(1, figsize=(20,20))\n",
        "n_columns = 8\n",
        "n_rows = np.math.ceil(filters / n_columns) + 1\n",
        "for i in range(filters):\n",
        "    plt.subplot(n_rows, n_columns, i+1)\n",
        "    plt.title('Filter ' + str(i))\n",
        "    plt.imshow(ActivatedUnits[0,:,:,i], interpolation=\"nearest\", cmap=\"gray\")"
      ],
      "metadata": {
        "id": "OoIVqBa8O8FX"
      },
      "execution_count": null,
      "outputs": []
    }
  ]
}